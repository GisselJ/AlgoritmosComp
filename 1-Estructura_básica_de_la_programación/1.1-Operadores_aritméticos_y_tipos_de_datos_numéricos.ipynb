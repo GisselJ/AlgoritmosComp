{
 "cells": [
  {
   "cell_type": "markdown",
   "id": "6713df60",
   "metadata": {},
   "source": [
    "# Operadores aritméticos y tipos de datos numéricos\n",
    "\n",
    "En este _notebook_, introduciremos los operadores necesarios para hacer operaciones aritméticas, así como los conceptos de **precedencia** y **asociatividad** de operadores, **tipos de datos**, y entenderemos cómo una computadora almacena números enteros en su memoria y realiza cálculos con ellos."
   ]
  },
  {
   "attachments": {},
   "cell_type": "markdown",
   "id": "7868e756",
   "metadata": {},
   "source": [
    "## GISSEL JUÁREZ OLIVOS"
   ]
  },
  {
   "cell_type": "markdown",
   "id": "78bea6c3",
   "metadata": {},
   "source": [
    "## Números\n",
    "\n",
    "Antes de pasar a cosas más generales, veamos cómo podemos _representar_ números en Julia.\n",
    "\n",
    "### Naturales ($\\mathbb{N}$)\n",
    "\n",
    "Los números naturales se escriben simplemente utilizando el número correspondiente:"
   ]
  },
  {
   "cell_type": "code",
   "execution_count": 3,
   "id": "02682fe1",
   "metadata": {},
   "outputs": [
    {
     "data": {
      "text/plain": [
       "0"
      ]
     },
     "metadata": {},
     "output_type": "display_data"
    }
   ],
   "source": [
    "0"
   ]
  },
  {
   "cell_type": "markdown",
   "id": "2ccd8897",
   "metadata": {},
   "source": [
    "### Enteros ($\\mathbb{Z}$)\n",
    "\n",
    "Los enteros negativos (i.e., enteros no naturales) se escriben con un signo negativo **`-`** al inicio:"
   ]
  },
  {
   "cell_type": "code",
   "execution_count": 4,
   "id": "6a778de8",
   "metadata": {},
   "outputs": [
    {
     "data": {
      "text/plain": [
       "-5"
      ]
     },
     "metadata": {},
     "output_type": "display_data"
    }
   ],
   "source": [
    "-5"
   ]
  },
  {
   "cell_type": "markdown",
   "id": "9833df5e",
   "metadata": {},
   "source": [
    "### Racionales $(\\mathbb{Q})$\n",
    "\n",
    "Los número racionales se escriben como dos enteros separados por el símbolo **`//`**:"
   ]
  },
  {
   "cell_type": "code",
   "execution_count": 22,
   "id": "c19bd894",
   "metadata": {},
   "outputs": [
    {
     "data": {
      "text/plain": [
       "1.5"
      ]
     },
     "metadata": {},
     "output_type": "display_data"
    }
   ],
   "source": [
    "#print(3 // 2) #si lo quiero dejar como fracción utilizo las dos diagonales\n",
    "3//2\n",
    "#3/2"
   ]
  },
  {
   "cell_type": "markdown",
   "id": "39eb24ef",
   "metadata": {},
   "source": [
    "### Reales ($\\mathbb{R}$)\n",
    "\n",
    "Los números reales que **no** son enteros ni racionales se escriben utilizando el punto decimal (**`.`**):"
   ]
  },
  {
   "cell_type": "code",
   "execution_count": 8,
   "id": "a595c4f9",
   "metadata": {},
   "outputs": [
    {
     "data": {
      "text/plain": [
       "1924.875"
      ]
     },
     "metadata": {},
     "output_type": "display_data"
    }
   ],
   "source": [
    "1924.875"
   ]
  },
  {
   "cell_type": "markdown",
   "id": "e6758a66",
   "metadata": {},
   "source": [
    "o bien, utilizando notación científica, reemplazando \"$\\times 10^\\wedge$\" por la letra `e`:"
   ]
  },
  {
   "cell_type": "code",
   "execution_count": 9,
   "id": "3f5ac0b9",
   "metadata": {},
   "outputs": [
    {
     "data": {
      "text/plain": [
       "1924.875"
      ]
     },
     "metadata": {},
     "output_type": "display_data"
    }
   ],
   "source": [
    "1.924875e3"
   ]
  },
  {
   "cell_type": "markdown",
   "id": "beaf2408",
   "metadata": {},
   "source": [
    "### Imaginarios ($\\mathbb{I}$)\n",
    "\n",
    "Los números imaginarios se escriben como múltiplos de la unidad imaginaria $i:=\\sqrt{-1}$, la cual está implementada en Julia como `im`."
   ]
  },
  {
   "cell_type": "code",
   "execution_count": 10,
   "id": "68ff2c9e",
   "metadata": {},
   "outputs": [
    {
     "data": {
      "text/plain": [
       "0 + 6im"
      ]
     },
     "metadata": {},
     "output_type": "display_data"
    }
   ],
   "source": [
    "6im"
   ]
  },
  {
   "cell_type": "code",
   "execution_count": 11,
   "id": "127988b4",
   "metadata": {},
   "outputs": [
    {
     "data": {
      "text/plain": [
       "0//1 + 5//2*im"
      ]
     },
     "metadata": {},
     "output_type": "display_data"
    }
   ],
   "source": [
    "(5//2)im"
   ]
  },
  {
   "cell_type": "code",
   "execution_count": 12,
   "id": "6a3c9bec",
   "metadata": {},
   "outputs": [
    {
     "data": {
      "text/plain": [
       "0.0 + 2.10395im"
      ]
     },
     "metadata": {},
     "output_type": "display_data"
    }
   ],
   "source": [
    "2.10395im"
   ]
  },
  {
   "cell_type": "markdown",
   "id": "006eb9cd",
   "metadata": {},
   "source": [
    "Notemos que, en realidad, Julia los está interpretando como números complejos con parte real cero (¡observen cómo cambia el ''cero'' de la parte real dependiendo del argumento que demos para la parte imaginaria!). Esto nos da una pista de cómo escribir números complejos."
   ]
  },
  {
   "cell_type": "markdown",
   "id": "1d9d02bd",
   "metadata": {},
   "source": [
    "### Complejos ($\\mathbb{C}$)\n",
    "\n",
    "Los números complejos se escriben como la suma de un número real más uno imaginario:"
   ]
  },
  {
   "cell_type": "code",
   "execution_count": 13,
   "id": "dd1cc2ec",
   "metadata": {},
   "outputs": [
    {
     "data": {
      "text/plain": [
       "-5 + 6im"
      ]
     },
     "metadata": {},
     "output_type": "display_data"
    }
   ],
   "source": [
    "-5 + 6im"
   ]
  },
  {
   "cell_type": "code",
   "execution_count": 21,
   "id": "25eb0445",
   "metadata": {},
   "outputs": [
    {
     "data": {
      "text/plain": [
       "3//2 - 5//2*im"
      ]
     },
     "metadata": {},
     "output_type": "display_data"
    }
   ],
   "source": [
    "3//2 + 5//2im"
   ]
  },
  {
   "cell_type": "code",
   "execution_count": 16,
   "id": "37e995e2",
   "metadata": {},
   "outputs": [
    {
     "data": {
      "text/plain": [
       "1924.875 + 2.10395im"
      ]
     },
     "metadata": {},
     "output_type": "display_data"
    }
   ],
   "source": [
    "1924.875 + 2.10395im"
   ]
  },
  {
   "cell_type": "markdown",
   "id": "209cc54b",
   "metadata": {},
   "source": [
    "El símbolo de **`+`**, como es de esperarse, realiza una operación de suma. Compara el resultado de `3//2`**`+`**`5//2im` con el de ``(5//2)im``. ¿Qué diferencia notas, y a qué crees que se deba?"
   ]
  },
  {
   "attachments": {},
   "cell_type": "markdown",
   "id": "42d45652",
   "metadata": {},
   "source": [
    "    En el resultado de `3//2`**`+`**`5//2im` el signo del componente imaginario es negativo, mientras que en el resultado de ``(5//2)im``, el componente imaginario tiene signo positivo."
   ]
  },
  {
   "cell_type": "markdown",
   "id": "97f5a887",
   "metadata": {},
   "source": [
    "## Operadores aritméticos\n",
    "En Julia, los símbolos **`+`**, **`-`**, **`*`**, **`/`** y **`^`** se utilizan para denotar las operaciones de suma, resta, multiplicación, división y exponenciación, respectivamente, de manera similar a como lo hacemos en matemáticas."
   ]
  },
  {
   "cell_type": "code",
   "execution_count": 23,
   "id": "8f908cf8",
   "metadata": {},
   "outputs": [
    {
     "data": {
      "text/plain": [
       "6"
      ]
     },
     "metadata": {},
     "output_type": "display_data"
    }
   ],
   "source": [
    "4+2"
   ]
  },
  {
   "cell_type": "markdown",
   "id": "1f1033f6",
   "metadata": {},
   "source": [
    "Generalmente, a los símbolos que realizan alguna operación en Julia se conocen como _operadores_; en particular, **`+`**, **`-`**, **`*`**, **`/`** y **`^`** son _operadores aritméticos_.\n",
    "\n",
    "**Ejercicio** Obten cada uno de los valores siguientes con **una sola modificación** de la expresión `4+2`.\n",
    "\n",
    "* 2\n",
    "* 4\n",
    "* 8\n",
    "* 16\n",
    "\n",
    "Asegúrate de usar cada operador aritmético al menos una vez. ¿De cuántas maneras diferentes podrás hacerlo para cada número?"
   ]
  },
  {
   "cell_type": "code",
   "execution_count": 31,
   "id": "e313a216",
   "metadata": {},
   "outputs": [
    {
     "data": {
      "text/plain": [
       "2.0"
      ]
     },
     "metadata": {},
     "output_type": "display_data"
    }
   ],
   "source": [
    "#Para 2\n",
    "4 - 2 \n",
    "4 / 2"
   ]
  },
  {
   "cell_type": "code",
   "execution_count": 32,
   "id": "2bb2fe40",
   "metadata": {},
   "outputs": [
    {
     "data": {
      "text/plain": [
       "4"
      ]
     },
     "metadata": {},
     "output_type": "display_data"
    }
   ],
   "source": [
    "#Para 4\n",
    "4 + 0 #Cambiando 2 por 0?  jeje"
   ]
  },
  {
   "cell_type": "code",
   "execution_count": 29,
   "id": "b8084995",
   "metadata": {},
   "outputs": [
    {
     "data": {
      "text/plain": [
       "8"
      ]
     },
     "metadata": {},
     "output_type": "display_data"
    }
   ],
   "source": [
    "#Para 8\n",
    "4 * 2"
   ]
  },
  {
   "cell_type": "code",
   "execution_count": 27,
   "id": "6963111d",
   "metadata": {},
   "outputs": [
    {
     "data": {
      "text/plain": [
       "16"
      ]
     },
     "metadata": {},
     "output_type": "display_data"
    }
   ],
   "source": [
    "#Para 16\n",
    "4^2"
   ]
  },
  {
   "cell_type": "markdown",
   "id": "1fffc345",
   "metadata": {},
   "source": [
    "### Precedencia\n",
    "\n",
    "Evaluemos una expresión con muchos operadores aritméticos, pero ningún paréntesis para indicar cuáles operaciones queremos que se realicen primero. ¿Puedes explicar qué está sucediendo?"
   ]
  },
  {
   "cell_type": "code",
   "execution_count": 33,
   "id": "e24b2ad2",
   "metadata": {},
   "outputs": [
    {
     "data": {
      "text/plain": [
       "-41"
      ]
     },
     "metadata": {},
     "output_type": "display_data"
    }
   ],
   "source": [
    "4 - 5 * 3 ^ 2"
   ]
  },
  {
   "attachments": {},
   "cell_type": "markdown",
   "id": "1d0ca0d3",
   "metadata": {},
   "source": [
    "    Está tomando la siguiente jerarquía de operaciones:\n",
    "    1) Exponencial\n",
    "    2) Multiplicación\n",
    "    3) Resta\n",
    "    Agregando paréntesis, se vería así:"
   ]
  },
  {
   "cell_type": "code",
   "execution_count": 34,
   "id": "f1b8fcb1",
   "metadata": {},
   "outputs": [
    {
     "data": {
      "text/plain": [
       "-41"
      ]
     },
     "metadata": {},
     "output_type": "display_data"
    }
   ],
   "source": [
    "4 - (5 * (3 ^ 2))"
   ]
  },
  {
   "cell_type": "markdown",
   "id": "defcc588",
   "metadata": {},
   "source": [
    "Observemos que el resultado que obtenemos es consistente, es decir, no cambia si ejecutamos la celda más veces. Para poder evaluar expresiones como ésta (con muchos operadores -en general- y sin paréntesis para indicar el orden de las operaciones) de forma consistente, Julia debe tener un _orden preestablecido_ en el cual ejecutar a los operadores. En el caso particular de los operadores aritméticos, el orden es el mismo que aprendemos en la educación básica:\n",
    "* primero, elevas los exponentes;\n",
    "* luego, realizas las multiplicaciones/divisiones;\n",
    "* finalmente, haces las sumas/restas.\n",
    "\n",
    "Para describir esto en términos de operadores de Julia, diríamos que:\n",
    "* el operador `^` tiene mayor _precedencia_ que los operadores `*`, `/`, `+` y `-`;\n",
    "* los operadores `*` y `/` tienen la misma _precedencia_, la cual es menor a la de `^` pero mayor a las de `+` y `-`;\n",
    "* los operadores `+` y `-` tienen la misma _precedencia_, la cual es menor a la de `^`, y a la de `*` y `/`."
   ]
  },
  {
   "cell_type": "markdown",
   "id": "b394fb96",
   "metadata": {},
   "source": [
    "Para revisar la **precedencia** de un operador en Julia, podemos utilizar la función `Base.operator_precedence`, con la sintáxis\n",
    "\n",
    "$\\text{Base}\\color{magenta}{\\text{.}}\\color{green}{\\text{operator_precedence}}\\text{(}\\color{green}{\\text{:op}}\\text{)}$\n",
    "\n",
    "en donde $\\text{op}$ es el operador en cuestión, como en el siguiente ejemplo:"
   ]
  },
  {
   "cell_type": "code",
   "execution_count": 39,
   "id": "c70225b8",
   "metadata": {},
   "outputs": [
    {
     "data": {
      "text/plain": [
       "11"
      ]
     },
     "metadata": {},
     "output_type": "display_data"
    }
   ],
   "source": [
    "Base.operator_precedence(:+)"
   ]
  },
  {
   "cell_type": "markdown",
   "id": "0afd29f5",
   "metadata": {},
   "source": [
    "**Ejercicio** Verifica las relaciones entre las precedencias de los operadores aritméticos discutidas en el párrafo anterior."
   ]
  },
  {
   "cell_type": "code",
   "execution_count": 50,
   "id": "15722353",
   "metadata": {},
   "outputs": [
    {
     "name": "stdout",
     "output_type": "stream",
     "text": [
      "17"
     ]
    }
   ],
   "source": [
    "print(2 + 7*3 - 6)"
   ]
  },
  {
   "cell_type": "code",
   "execution_count": 51,
   "id": "2200a175",
   "metadata": {},
   "outputs": [
    {
     "name": "stdout",
     "output_type": "stream",
     "text": [
      "16"
     ]
    }
   ],
   "source": [
    "print(3^2 + 7*(2-1)^5) #Primero eleva 2-1 a la quinta y después lo multiplica por 7, si elevara a 7 a la quinta, sería otra cosa, veamos:"
   ]
  },
  {
   "cell_type": "code",
   "execution_count": 52,
   "id": "3e8a26ed",
   "metadata": {},
   "outputs": [
    {
     "name": "stdout",
     "output_type": "stream",
     "text": [
      "16816"
     ]
    }
   ],
   "source": [
    "a = 7^5\n",
    "print(3^2 + a)"
   ]
  },
  {
   "cell_type": "code",
   "execution_count": 53,
   "id": "f05b6025",
   "metadata": {},
   "outputs": [
    {
     "data": {
      "text/plain": [
       "20.0"
      ]
     },
     "metadata": {},
     "output_type": "display_data"
    }
   ],
   "source": [
    "(5/2)* 8 "
   ]
  },
  {
   "cell_type": "code",
   "execution_count": 54,
   "id": "58c84d9b",
   "metadata": {},
   "outputs": [
    {
     "data": {
      "text/plain": [
       "20.0"
      ]
     },
     "metadata": {},
     "output_type": "display_data"
    }
   ],
   "source": [
    "a=8*5\n",
    "a/2"
   ]
  },
  {
   "cell_type": "markdown",
   "id": "2e3d9d5f",
   "metadata": {},
   "source": [
    "### Asociatividad\n",
    "\n",
    "¿Qué sucede si queremos evaluar una expresión en donde _todos_ los operadores tienen la misma precedencia, y tampoco hay paréntesis para indicar qué operadores irán primero? La manera más consistente de evaluar expresiones de este tipo es que, para cada valor de precedencia, Julia decida si va a evaluar a los operadores de dicha precedencia asociándolos por la izquierda (lo que equivaldría a \"ejecutar el código de izquierda a derecha\") o asociándolos por la derecha (lo que equivaldría a \"ejecutar el código de izquierda a derecha\"). En el primer caso, decimos decimos que todos los operadores de precedencia $n$ tienen **asociatividad izquierda** mientras que, en el segundo, decimos que tienen **asociatividad derecha**."
   ]
  },
  {
   "cell_type": "code",
   "execution_count": 55,
   "id": "46dbe17f",
   "metadata": {},
   "outputs": [
    {
     "data": {
      "text/plain": [
       "16.0"
      ]
     },
     "metadata": {},
     "output_type": "display_data"
    }
   ],
   "source": [
    "8 * 2 / 4 * 4"
   ]
  },
  {
   "cell_type": "code",
   "execution_count": 56,
   "id": "2abcdd3c",
   "metadata": {},
   "outputs": [
    {
     "data": {
      "text/plain": [
       "16.0"
      ]
     },
     "metadata": {},
     "output_type": "display_data"
    }
   ],
   "source": [
    "( (8 * 2) / 4) * 4 #misma precedencia, asociatividad izquierda"
   ]
  },
  {
   "cell_type": "code",
   "execution_count": 57,
   "id": "16b19776",
   "metadata": {},
   "outputs": [
    {
     "data": {
      "text/plain": [
       "65536"
      ]
     },
     "metadata": {},
     "output_type": "display_data"
    }
   ],
   "source": [
    "2^2^2^2"
   ]
  },
  {
   "cell_type": "code",
   "execution_count": 58,
   "id": "10407c4e",
   "metadata": {},
   "outputs": [
    {
     "data": {
      "text/plain": [
       "65536"
      ]
     },
     "metadata": {},
     "output_type": "display_data"
    }
   ],
   "source": [
    "2^( 2^ (2 ^ 2)) #misma precedencia, asociatividad derecha"
   ]
  },
  {
   "cell_type": "markdown",
   "id": "ae816cb2",
   "metadata": {},
   "source": [
    "Para revisar la **asociatividad** de un operador en Julia, podemos utilizar la función `Base.operator_associativity`, con la sintáxis\n",
    "\n",
    "$\\text{Base}\\color{magenta}{\\text{.}}\\color{green}{\\text{operator_associativity}}\\text{(}\\color{green}{\\text{:op}}\\text{)}$\n",
    "\n",
    "en donde $\\text{op}$ es el operador en cuestión, como en el siguiente ejemplo:"
   ]
  },
  {
   "cell_type": "code",
   "execution_count": 62,
   "id": "7a5f1be0",
   "metadata": {
    "scrolled": true
   },
   "outputs": [
    {
     "data": {
      "text/plain": [
       ":left"
      ]
     },
     "metadata": {},
     "output_type": "display_data"
    }
   ],
   "source": [
    "Base.operator_associativity(:/)"
   ]
  },
  {
   "cell_type": "markdown",
   "id": "124f6994",
   "metadata": {},
   "source": [
    "**Ejercicio** Verifica las asociatividades de los operadores utilizados en el ejemplo anterior."
   ]
  },
  {
   "cell_type": "code",
   "execution_count": 67,
   "id": "9f3a7aaa",
   "metadata": {},
   "outputs": [
    {
     "data": {
      "text/plain": [
       "4304711074200819329"
      ]
     },
     "metadata": {},
     "output_type": "display_data"
    }
   ],
   "source": [
    "5^6^5 #ya que la exponenciación tiene asociatividad derecha, primero elevara el 6 a la quinta, y entonces elevará el 5 a la (6^5)"
   ]
  },
  {
   "cell_type": "code",
   "execution_count": 70,
   "id": "0e5be585",
   "metadata": {},
   "outputs": [
    {
     "data": {
      "text/plain": [
       "4304711074200819329"
      ]
     },
     "metadata": {},
     "output_type": "display_data"
    }
   ],
   "source": [
    "a = 6^5\n",
    "5^a"
   ]
  },
  {
   "cell_type": "code",
   "execution_count": 69,
   "id": "8abe756a",
   "metadata": {},
   "outputs": [
    {
     "data": {
      "text/plain": [
       "8985370930000934825"
      ]
     },
     "metadata": {},
     "output_type": "display_data"
    }
   ],
   "source": [
    "((5)^6)^5 #que no será lo mismo que nosotros mismos marcar la asociatividad a la izquierda."
   ]
  },
  {
   "cell_type": "code",
   "execution_count": 78,
   "id": "fe8d1f19",
   "metadata": {},
   "outputs": [
    {
     "data": {
      "text/plain": [
       "160"
      ]
     },
     "metadata": {},
     "output_type": "display_data"
    }
   ],
   "source": [
    "8*5*4 "
   ]
  },
  {
   "cell_type": "code",
   "execution_count": 79,
   "id": "2e5db8eb",
   "metadata": {},
   "outputs": [
    {
     "data": {
      "text/plain": [
       "160"
      ]
     },
     "metadata": {},
     "output_type": "display_data"
    }
   ],
   "source": [
    "8*(5*4)"
   ]
  },
  {
   "cell_type": "code",
   "execution_count": 80,
   "id": "1d8c0593",
   "metadata": {},
   "outputs": [
    {
     "data": {
      "text/plain": [
       "0.15625"
      ]
     },
     "metadata": {},
     "output_type": "display_data"
    }
   ],
   "source": [
    "5/4/8"
   ]
  },
  {
   "cell_type": "code",
   "execution_count": 81,
   "id": "8c2bd16d",
   "metadata": {},
   "outputs": [
    {
     "data": {
      "text/plain": [
       "0.15625"
      ]
     },
     "metadata": {},
     "output_type": "display_data"
    }
   ],
   "source": [
    "(5/4)/8"
   ]
  },
  {
   "cell_type": "code",
   "execution_count": 82,
   "id": "1a2006e7",
   "metadata": {},
   "outputs": [
    {
     "data": {
      "text/plain": [
       "10.0"
      ]
     },
     "metadata": {},
     "output_type": "display_data"
    }
   ],
   "source": [
    "5/(4/8)"
   ]
  },
  {
   "cell_type": "markdown",
   "id": "cf35c51b",
   "metadata": {},
   "source": [
    "La precedencia y asociatividad de algunos operadores básicos en Julia se puede consultar en la [documentación](https://docs.julialang.org/en/v1/manual/mathematical-operations/#Operator-Precedence-and-Associativity)."
   ]
  },
  {
   "cell_type": "markdown",
   "id": "fe88821a",
   "metadata": {},
   "source": [
    "**Ejercicio** Investiga la precedencia y asociatividad de los operadores que aparecen en la expresión\n",
    "\n",
    "`x = -7 + 6^5 // 4 * 3 / 2 - 1`\n",
    "\n",
    "y determina de qué manera se ejecutará, indicándolo al colocar paréntesis en la expresióñ\n",
    "\n",
    "`x = -7 + 6^5 // 4 * 3 / 2 - 1`.\n",
    "\n",
    "Después, verifica tu respuesta ejecutando la expresión original y tu expresión con paréntesis en diferentes celdas de código y comparando los resultados."
   ]
  },
  {
   "attachments": {},
   "cell_type": "markdown",
   "id": "b810ea3b",
   "metadata": {},
   "source": [
    "    Precedencia:  ^ > * = / > + = -\n",
    "    Asociatividad: ^ : derecha, /: izquierda, *,+: ninguna, -: izquierda, //: izquierda "
   ]
  },
  {
   "cell_type": "code",
   "execution_count": 90,
   "id": "05fe4dfb",
   "metadata": {},
   "outputs": [
    {
     "data": {
      "text/plain": [
       ":left"
      ]
     },
     "metadata": {},
     "output_type": "display_data"
    }
   ],
   "source": [
    "Base.operator_associativity(:^)\n",
    "Base.operator_associativity(://)"
   ]
  },
  {
   "attachments": {},
   "cell_type": "markdown",
   "id": "2e4f7383",
   "metadata": {},
   "source": [
    "    Se jecutará en el siguiente orden: primero la exponencial 6^5, como / tiene asociatividad a la izquierda, todo lo que esté hasta antes del signo + irá en el numerador del cociente, y como // tiene asociatividad izquierda, también todo lo que esté antes del + irá en el numerador, los + y - están aislados."
   ]
  },
  {
   "cell_type": "code",
   "execution_count": 89,
   "id": "99a434fb",
   "metadata": {},
   "outputs": [
    {
     "data": {
      "text/plain": [
       "2908//1"
      ]
     },
     "metadata": {},
     "output_type": "display_data"
    }
   ],
   "source": [
    "x = -7 + 6^5 // 4 * 3 / 2 - 1"
   ]
  },
  {
   "cell_type": "code",
   "execution_count": 95,
   "id": "64ec52cb",
   "metadata": {},
   "outputs": [
    {
     "data": {
      "text/plain": [
       "2908//1"
      ]
     },
     "metadata": {},
     "output_type": "display_data"
    }
   ],
   "source": [
    "-7 + (( (6^5) // 4 * 3) / 2) - 1"
   ]
  },
  {
   "cell_type": "markdown",
   "id": "6e718aa8",
   "metadata": {},
   "source": [
    "## Tipos de datos\n",
    "\n",
    "En algunas celdas anteriores, para formar números complejos, realizamos una operación entre numeros reales e imaginarios y escribimos, en cada caso, a las partes reales e imaginarias (i.e., los coeficientes que acompañan a `im`) de una forma \"similar\". En la mayoría de los lenguajes de programación, para que los operadores puedan funcionar de forma óptima, deben utilizarse entre datos del mismo \"tipo\". En Julia, podemos averiguar el tipo de dato de una expresión con la función `typeof`:"
   ]
  },
  {
   "cell_type": "code",
   "execution_count": 96,
   "id": "df56f9f1",
   "metadata": {},
   "outputs": [
    {
     "data": {
      "text/plain": [
       "Int64"
      ]
     },
     "metadata": {},
     "output_type": "display_data"
    }
   ],
   "source": [
    "typeof(-5)"
   ]
  },
  {
   "cell_type": "code",
   "execution_count": 97,
   "id": "e5341be1",
   "metadata": {},
   "outputs": [
    {
     "data": {
      "text/plain": [
       "Rational{Int64}"
      ]
     },
     "metadata": {},
     "output_type": "display_data"
    }
   ],
   "source": [
    "typeof(3 // 2)"
   ]
  },
  {
   "cell_type": "code",
   "execution_count": 98,
   "id": "fa12a5e8",
   "metadata": {},
   "outputs": [
    {
     "data": {
      "text/plain": [
       "Float64"
      ]
     },
     "metadata": {},
     "output_type": "display_data"
    }
   ],
   "source": [
    "typeof(1924.875)"
   ]
  },
  {
   "cell_type": "markdown",
   "id": "78a5522f",
   "metadata": {},
   "source": [
    "Aquí observamos que el número entero `-5` es de tipo `Int64` en Julia y el número real `1924.875` es de tipo `Float64`. En cambio, el número `3//2`, que tiene dos números de tipo `Int64` en su expresión (¡verifícalo!), es de tipo `Rational{Int64}`. Notemos que el tipo de dato de `3//2` incluye a _otro_ tipo de dato -en este caso, `Int64`. Para remarcar esta distinción, decimos que `Int64` y `Float64` son tipos de datos **primitivos**, mientras que `Rational{Int64}` es un tipo de dato **compuesto**.\n",
    "\n",
    "**Nota** Si en vez de `Int64` y `Float64` te aparecen `Int32` y `Float32`, respectivamente, _¡no te preocupes!_ Significa que tu sistema es de 32 bits. El número de bits de tu sistema se puede consultar ejecutando el siguiente comando:"
   ]
  },
  {
   "cell_type": "code",
   "execution_count": 99,
   "id": "42c28a0b",
   "metadata": {},
   "outputs": [
    {
     "data": {
      "text/plain": [
       "64"
      ]
     },
     "metadata": {},
     "output_type": "display_data"
    }
   ],
   "source": [
    "Sys.WORD_SIZE"
   ]
  },
  {
   "cell_type": "markdown",
   "id": "3a803fae",
   "metadata": {},
   "source": [
    "aunque, para fines de este curso, no es necesario preocuparnos por este detalle técnico."
   ]
  },
  {
   "cell_type": "markdown",
   "id": "32c764a0",
   "metadata": {},
   "source": [
    "**Ejercicio** Escribe un número racional que sea de tipo `Rational{Float32}` ó `Rational{Float64}`."
   ]
  },
  {
   "cell_type": "code",
   "execution_count": 109,
   "id": "7e18ac29",
   "metadata": {},
   "outputs": [
    {
     "ename": "MethodError",
     "evalue": "MethodError: no method matching //(::Float64, ::Int64)\nClosest candidates are:\n  //(!Matched::Integer, ::Integer) at rational.jl:62\n  //(!Matched::Rational, ::Integer) at rational.jl:64\n  //(!Matched::Complex, ::Real) at rational.jl:78\n  ...",
     "output_type": "error",
     "traceback": [
      "MethodError: no method matching //(::Float64, ::Int64)\n",
      "Closest candidates are:\n",
      "  //(!Matched::Integer, ::Integer) at rational.jl:62\n",
      "  //(!Matched::Rational, ::Integer) at rational.jl:64\n",
      "  //(!Matched::Complex, ::Real) at rational.jl:78\n",
      "  ...\n",
      "\n",
      "Stacktrace:\n",
      " [1] top-level scope\n",
      "   @ c:\\Users\\Enrique Juarez V1\\Documents\\Algoritmos_Computacionales\\AlgoritmosComp\\1-Estructura_básica_de_la_programación\\1.1-Operadores_aritméticos_y_tipos_de_datos_numéricos.ipynb:2"
     ]
    }
   ],
   "source": [
    "typeof((5.36) / (5.61))\n",
    "typeof(5.32//2)"
   ]
  },
  {
   "cell_type": "markdown",
   "id": "c313e55c",
   "metadata": {},
   "source": [
    "Observemos que, además de los números racionales, los complejos también tienen tipos de datos compuestos:"
   ]
  },
  {
   "cell_type": "code",
   "execution_count": 110,
   "id": "59a0d208",
   "metadata": {},
   "outputs": [
    {
     "data": {
      "text/plain": [
       "Complex{Int64}"
      ]
     },
     "metadata": {},
     "output_type": "display_data"
    }
   ],
   "source": [
    "typeof(-5 + 6im)"
   ]
  },
  {
   "cell_type": "code",
   "execution_count": 111,
   "id": "737fa5e0",
   "metadata": {},
   "outputs": [
    {
     "data": {
      "text/plain": [
       "ComplexF64\u001b[90m (alias for \u001b[39m\u001b[90mComplex{Float64}\u001b[39m\u001b[90m)\u001b[39m"
      ]
     },
     "metadata": {},
     "output_type": "display_data"
    }
   ],
   "source": [
    "typeof(1924.875 + 2.10395im)"
   ]
  },
  {
   "cell_type": "markdown",
   "id": "2a29186e",
   "metadata": {},
   "source": [
    "**Ejercicio** ¿Qué tipo de dato tendrá la expresión `3//2 + 5//2im`? (Nota: **No** uses la función `typeof` aún)\n",
    "\n",
    "_Aquí va tu respuesta_\n",
    "\n",
    "Después de haber escrito tu respuesta, averígualo con la función `typeof`. ¿Qué nos dice esto sobre los tipos de datos compuestos? (Nota: En caso de no haber acertado, puedes corregir tu respuesta anterior, si así lo deseas, o, mejor, dejarla como un recordatorio de lo aprendido)"
   ]
  },
  {
   "cell_type": "markdown",
   "id": "21809ea9",
   "metadata": {},
   "source": [
    "**Nota** Los _tipos de datos numéricos_ de Julia **no corresponden** a los _conjuntos de números_ $\\mathbb{N}, \\mathbb{Z}, \\mathbb{Q}, \\mathbb{R}, \\mathbb{I},\\mathbb{C}$, etc. _¡Es muy importante no olvidarlo!_"
   ]
  },
  {
   "attachments": {},
   "cell_type": "markdown",
   "id": "047011b0",
   "metadata": {},
   "source": [
    "    Debe ser un Complex{Rational{Int64}}"
   ]
  },
  {
   "cell_type": "code",
   "execution_count": 112,
   "id": "cbe7336a",
   "metadata": {},
   "outputs": [
    {
     "data": {
      "text/plain": [
       "Complex{Rational{Int64}}"
      ]
     },
     "metadata": {},
     "output_type": "display_data"
    }
   ],
   "source": [
    "typeof(3//2 + 5//2im)"
   ]
  },
  {
   "cell_type": "markdown",
   "id": "0d06276c",
   "metadata": {},
   "source": [
    "### Tipos de datos numéricos enteros\n",
    "\n",
    "`Int64` e `Int32` son lo que se conoce como **tipos de datos numéricos enteros** _en el ámbito computacional_. Los dos números al final de cada tipo indican cuántos bits se utilizan para almacenar un número dado. Un _bit_ es la unidad mínima de memoria en una computadora. Tiene un formato binario cuyos dos valores se representan como 0 y 1. En un número de tipo `Int64`, uno de los bits se utiliza para indicar si el número es positivo (0) o negativo (1), y los restantes (63, en este caso) se utilizan para almacenar el valor absoluto del número en sistema binario. Por convención, la mitad de los valores de tipo `Int64` son menores a cero. Haciendo un poco de combinatoria:\n",
    "\n",
    "* Dado que cada bit puede tomar dos valores distintos, existen $2^{64}$ combinaciones diferentes con 64 bits, por lo que podemos representar $2^{64}$ números _de tipo entero_ diferentes con `Int64`, incluyendo números negativos.\n",
    "* Ya que un bit se utiliza para el signo y la mitad de los valores de tipo `Int64` son menores a cero, el menor valor de tipo `Int64` es $-2^{63}$, mientras que el mayor valor de tipo `Int64` es $2^{63}-1$. Esto se puede comprobar con las funciones `typemin` y `typemax`, respectivamente. "
   ]
  },
  {
   "cell_type": "code",
   "execution_count": 113,
   "id": "2265ab6c",
   "metadata": {},
   "outputs": [
    {
     "data": {
      "text/plain": [
       "-9223372036854775808"
      ]
     },
     "metadata": {},
     "output_type": "display_data"
    }
   ],
   "source": [
    "-2^63"
   ]
  },
  {
   "cell_type": "code",
   "execution_count": 114,
   "id": "959cf63d",
   "metadata": {},
   "outputs": [
    {
     "data": {
      "text/plain": [
       "-9223372036854775808"
      ]
     },
     "metadata": {},
     "output_type": "display_data"
    }
   ],
   "source": [
    "typemin(Int64)"
   ]
  },
  {
   "cell_type": "code",
   "execution_count": 115,
   "id": "d00dbc11",
   "metadata": {},
   "outputs": [
    {
     "data": {
      "text/plain": [
       "9223372036854775807"
      ]
     },
     "metadata": {},
     "output_type": "display_data"
    }
   ],
   "source": [
    "2^63-1"
   ]
  },
  {
   "cell_type": "code",
   "execution_count": 116,
   "id": "e7be4a44",
   "metadata": {},
   "outputs": [
    {
     "data": {
      "text/plain": [
       "9223372036854775807"
      ]
     },
     "metadata": {},
     "output_type": "display_data"
    }
   ],
   "source": [
    "typemax(Int64)"
   ]
  },
  {
   "attachments": {},
   "cell_type": "markdown",
   "id": "c5ff812c",
   "metadata": {},
   "source": [
    "También existen los tipos de datos numéricos enteros `Int8`, `Int16` e `Int128`.\n",
    "\n",
    "**Ejercicio** Completa la siguiente tabla (¡Asegúrate de entender el _porqué_ de tus respuestas!):\n",
    "\n",
    "| Tipo de dato numérico entero | Valores distintos | Valor mínimo | Valor máximo |\n",
    "| --- | --- | --- | --- |\n",
    "| `Int8` |$2^8$ | $-2^{7}$| $2^{7}-1$|\n",
    "| `Int16` | $2^{16}$| $-2^{15}$ | $2^{15}-1$ |\n",
    "| `Int32` |$2^{32}$ |$-2^{31}$ | $2^{31}-1$ |\n",
    "| `Int64` | $2^{64}$ | $-2^{63}$ | $2^{63}-1$ |\n",
    "| `Int128` |$2^{128}$ |$-2^{127}$ | $2^{127}-1$ |\n",
    "\n",
    "`Int8`, `Int16`, `Int32`, `Int64` e `Int128` también se pueden utilizar como funciones para cambiar los tipos de datos numéricos enteros:"
   ]
  },
  {
   "cell_type": "code",
   "execution_count": 117,
   "id": "fd870d46",
   "metadata": {},
   "outputs": [
    {
     "data": {
      "text/plain": [
       "Int64"
      ]
     },
     "metadata": {},
     "output_type": "display_data"
    }
   ],
   "source": [
    "typeof(1)"
   ]
  },
  {
   "cell_type": "code",
   "execution_count": 118,
   "id": "b18292cb",
   "metadata": {},
   "outputs": [
    {
     "data": {
      "text/plain": [
       "Int8"
      ]
     },
     "metadata": {},
     "output_type": "display_data"
    }
   ],
   "source": [
    "typeof(Int8(1))"
   ]
  },
  {
   "cell_type": "markdown",
   "id": "e4c2d5f3",
   "metadata": {},
   "source": [
    "El nombre genérico `Int` es un alias para el tipo de dato numérico entero predeterminado de tu sistema (e.g. `Int32` ó `Int64`)"
   ]
  },
  {
   "cell_type": "code",
   "execution_count": 119,
   "id": "e62cf883",
   "metadata": {},
   "outputs": [
    {
     "data": {
      "text/plain": [
       "Int64"
      ]
     },
     "metadata": {},
     "output_type": "display_data"
    }
   ],
   "source": [
    "Int"
   ]
  },
  {
   "cell_type": "markdown",
   "id": "e8a61a6c",
   "metadata": {},
   "source": [
    "**Nota** No podemos convertir números con decimales no nulos a números de tipo entero:"
   ]
  },
  {
   "cell_type": "code",
   "execution_count": 120,
   "id": "2fdb98ed",
   "metadata": {},
   "outputs": [
    {
     "data": {
      "text/plain": [
       "Int32"
      ]
     },
     "metadata": {},
     "output_type": "display_data"
    }
   ],
   "source": [
    "typeof(Int32(3.0))"
   ]
  },
  {
   "cell_type": "code",
   "execution_count": 121,
   "id": "b0aa047d",
   "metadata": {},
   "outputs": [
    {
     "ename": "InexactError",
     "evalue": "InexactError: Int32(3.14159)",
     "output_type": "error",
     "traceback": [
      "InexactError: Int32(3.14159)\n",
      "\n",
      "Stacktrace:\n",
      " [1] Int32(x::Float64)\n",
      "   @ Base .\\float.jl:767\n",
      " [2] top-level scope\n",
      "   @ c:\\Users\\Enrique Juarez V1\\Documents\\Algoritmos_Computacionales\\AlgoritmosComp\\1-Estructura_básica_de_la_programación\\1.1-Operadores_aritméticos_y_tipos_de_datos_numéricos.ipynb:1"
     ]
    }
   ],
   "source": [
    "typeof(Int32(3.14159))"
   ]
  },
  {
   "cell_type": "markdown",
   "id": "fd4532cc",
   "metadata": {},
   "source": [
    "lo cual es un indicio de que los números con decimales no nulos se almacenan de otra manera en memoria."
   ]
  },
  {
   "cell_type": "markdown",
   "id": "4ff87600",
   "metadata": {},
   "source": [
    "#### Sobreflujo\n",
    "\n",
    "Cuando hacemos cálculos con números de tipo entero (computacionalmente hablando), como lo hicimos en el la sección **Operadores aritméticos**, en realidad la computadora está realizando las operaciones entre las _representaciones binarias_ de dichos números. Dado que el rango de números que se pueden representar **siempre** es limitado, pueden ocurrir cosas como lo siguiente:"
   ]
  },
  {
   "cell_type": "code",
   "execution_count": 122,
   "id": "40ec3dac",
   "metadata": {},
   "outputs": [
    {
     "data": {
      "text/plain": [
       "-9223372036854775808"
      ]
     },
     "metadata": {},
     "output_type": "display_data"
    }
   ],
   "source": [
    "Int64(2^63-1) + 1"
   ]
  },
  {
   "cell_type": "code",
   "execution_count": 123,
   "id": "4cd32b6f",
   "metadata": {},
   "outputs": [
    {
     "data": {
      "text/plain": [
       "9223372036854775807"
      ]
     },
     "metadata": {},
     "output_type": "display_data"
    }
   ],
   "source": [
    "Int64(-2^63) - 1"
   ]
  },
  {
   "cell_type": "markdown",
   "id": "0091c4ac",
   "metadata": {},
   "source": [
    "Observemos que:\n",
    "* dado que especificamos que el primer argumento de las operaciones `+` y `-` es de tipo `Int64`, Julia implícitamente convierte al número `1` en `Int64` antes de realizar las operaciones para que los resultados también sean de tipo `Int64`;\n",
    "* al sumarle $1$ al máximo número representable con `Int64`, ¡obtenemos el _mínimo_ número representable con `Int64`!;\n",
    "* al restarle $1$ al mínimo número representable con `Int64`, ¡obtenemos el _máximo_ número representable con `Int64`!\n",
    "\n",
    "En los dos últimos casos se presenta un efecto de **sobreflujo**. Este fenómeno ocurre cuando el resultado de una operación entre números de un tipo de dato numérico _sale del rango_ de valores representables por dicho tipo de dato numérico. En este caso, el resultado \"le da la vuelta\" al rango de valores representables: por esto es que el valor siguiente del máximo representable es el _mínimo_ representable, y que el valor anterior al mínimo representable es el _máximo_ representable.\n",
    "\n",
    "Una manera más matemática de resumir el sobreflujo es deciendo que _las operaciones aritméticas en una computadora siempre se realizan **módulo** el rango de valores representables por el tipo de dato numérico del resultado_. Para evitar tener efectos de sobreflujo _se debe tener mucho cuidado con las magnitudes de los números con los que calculamos, al igual que los tipos de datos numéricos que utilizamos para hacer los cálculos_."
   ]
  },
  {
   "cell_type": "markdown",
   "id": "11366137",
   "metadata": {},
   "source": [
    "#### `UInt`\n",
    "\n",
    "También existen tipos de datos numéricos enteros `UInt8`, ..., `UInt128` para almacenar números enteros **sin signo** (el nombre proviene justamente de _**U**nsigned **Int**egers_). En este caso, no se utiliza ningún bit para almacenar el signo por lo que, por ejemplo, el valor máximo de `UInt64` será $2^{64}-1$ (el valor mínimo de todos los `UInt` es $0$). Estos números se escriben añadiendo `0x` antes de un entero:"
   ]
  },
  {
   "cell_type": "code",
   "execution_count": 124,
   "id": "4df0b16e",
   "metadata": {},
   "outputs": [
    {
     "data": {
      "text/plain": [
       "0x02"
      ]
     },
     "metadata": {},
     "output_type": "display_data"
    }
   ],
   "source": [
    "0x1 + 0x1"
   ]
  },
  {
   "cell_type": "code",
   "execution_count": 125,
   "id": "88b244d2",
   "metadata": {},
   "outputs": [
    {
     "data": {
      "text/plain": [
       "UInt8"
      ]
     },
     "metadata": {},
     "output_type": "display_data"
    }
   ],
   "source": [
    "typeof(0x1)"
   ]
  },
  {
   "cell_type": "markdown",
   "id": "a8039a5d",
   "metadata": {},
   "source": [
    "**Nota** Los tipos `UInt` también son susceptibles al sobreflujo y, además, tienen usos muy específicos; en este curso **no los utilizaremos**."
   ]
  },
  {
   "cell_type": "markdown",
   "id": "7949a327",
   "metadata": {},
   "source": [
    "#### Pequeño adelanto\n",
    "\n",
    "A diferencia de `Int64` y `UInt64`, `Float64` es un tipo de dato numérico de \"punto flotante\". Veremos qué significa esto y qué implicaciones tiene en el _notebook_ [`1.2-Sistemas_numéricos_de_punto_flotante_y_error_numérico.ipynb`](./1.2-Sistemas_numéricos_de_punto_flotante_y_error_numérico.ipynb).\n",
    "\n",
    "Por ahora, observa la diferencia existente entre las siguientes dos celdas al ejecutarlas:"
   ]
  },
  {
   "cell_type": "code",
   "execution_count": 126,
   "id": "6de5bb39",
   "metadata": {},
   "outputs": [
    {
     "data": {
      "text/plain": [
       "9//10"
      ]
     },
     "metadata": {},
     "output_type": "display_data"
    }
   ],
   "source": [
    "1//10 + 1//10 + 1//10 + 1//10 + 1//10 + 1//10 + 1//10 + 1//10 + 1//10"
   ]
  },
  {
   "cell_type": "code",
   "execution_count": 127,
   "id": "6be7ebf5",
   "metadata": {},
   "outputs": [
    {
     "data": {
      "text/plain": [
       "0.8999999999999999"
      ]
     },
     "metadata": {},
     "output_type": "display_data"
    }
   ],
   "source": [
    "0.1 + 0.1 + 0.1 + 0.1 + 0.1 + 0.1 + 0.1 + 0.1 + 0.1"
   ]
  },
  {
   "cell_type": "markdown",
   "id": "9adb21a2",
   "metadata": {},
   "source": [
    "¿Te parece esto problemático? ¿A qué crees que se deba?"
   ]
  },
  {
   "attachments": {},
   "cell_type": "markdown",
   "id": "c47a9a30",
   "metadata": {},
   "source": [
    "    Mmm, pareciera problemático, parece que haciendo la suma con 0.1, se pierden valores, pues si bien 1=0.999999 al infinito representa lo mismo (1), la computadora no puede almacenar datos infinitos, por lo que podemos decir que hay pérdida de decimales al no representar el número como racional"
   ]
  },
  {
   "cell_type": "markdown",
   "id": "ef543bd1",
   "metadata": {},
   "source": [
    "## Resumen\n",
    "\n",
    "En Julia, los símbolos **`+`**, **`-`**, **`*`**, **`/`** y **`^`** se utilizan para denotar las operaciones de suma, resta, multiplicación, división y exponenciación, respectivamente. Los símbolos que realizan alguna operación en Julia se conocen como _operadores_, y los anteriores son ejemplos de _operadores aritméticos_.\n",
    "\n",
    "Para poder ejecutar expresiones de forma consistente, Julia le asigna a cada operador un nivel de _precedencia_ y, a cada nivel de precedencia, una _asociatividad_. Al ejecutar una expresión con muchos operadores, Julia los ejecutará de mayor a menor precedencia, y cada vez que encuentre varios operadores con la misma precedencia los ejecutará de acuerdo a la asociatividad del respectivo nivel de precedencia, que puede ser izquierda o derecha; asociatividad izquierda es equivalente a ejecutar de izquierda a derecha, mientras asociatividad derecha equivale a ejecutar de derecha a izquierda.\n",
    "\n",
    "Para funcionar óptimamente, los operadores deben operar entre datos del mismo tipo. En caso de hacer una operación entre datos con tipos de datos distintos, el operador **intentará** convertir datos de tal forma que todos tengan un tipo de dato común: si esto es posible, hará dicha conversión _implícitamente_ antes de ejecutar la operación; de lo contrario, devolverá un mensaje de error. Al programar, se recomienda procurar utilizar operadores entre datos **del mismo tipo** para poder tener total certeza de qué tipo de dato tendrá el resultado.\n",
    "\n",
    "Los tipos de datos pueden ser numéricos, lógicos, de texto, entre otros, y se pueden clasificar como primitivos o compuestos. En el caso de los tipos de datos numéricos, algunos ejemplos de tipos de datos primitivos incluyen `Int64` y `Float64`, mientras que algunos ejemplos de tipos de datos compuestos son `Rational{Int64}` y `Complex{Float64}`."
   ]
  },
  {
   "cell_type": "markdown",
   "id": "1aa3210a",
   "metadata": {},
   "source": [
    "**Nota** En este _notebook_, hemos visto algunos tipos de datos primitivos y compuestos para trabajar con operaciones aritméticas. Más adelante, veremos los tipos de datos primitivos\n",
    "* `Bool`, para trabajar con operaciones lógicas, y\n",
    "*`Char` y `String`, para trabajar con operaciones que involucren texto.\n",
    "\n",
    "Además, veremos el tipo de dato compuesto `Array{}`, el cual podremos utilizar para formar arreglos con cualesquiera de los tipos de datos primitivos anteriores (numéricos, lógicos o de texto). En particular, los vectores y las matrices (de extrema utilidad, como sabemos) son ejemplos de arreglos numéricos. Como adelanto a todo esto... ¿alguna vez te preguntaste qué tipo de dato tiene la unidad imaginaria `im`?"
   ]
  }
 ],
 "metadata": {
  "kernelspec": {
   "display_name": "Julia 1.8.5",
   "language": "julia",
   "name": "julia-1.8"
  },
  "language_info": {
   "file_extension": ".jl",
   "mimetype": "application/julia",
   "name": "julia",
   "version": "1.8.5"
  }
 },
 "nbformat": 4,
 "nbformat_minor": 5
}
